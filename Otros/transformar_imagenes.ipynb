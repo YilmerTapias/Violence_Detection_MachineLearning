{
 "cells": [
  {
   "cell_type": "code",
   "execution_count": 10,
   "metadata": {},
   "outputs": [
    {
     "name": "stdout",
     "output_type": "stream",
     "text": [
      "Found 513 images belonging to 1 classes.\n"
     ]
    }
   ],
   "source": [
    "from keras.preprocessing.image import ImageDataGenerator\n",
    "\n",
    "train_datagen = ImageDataGenerator(rescale = 1./255,\n",
    "                                   shear_range = 0.2,\n",
    "                                   zoom_range = 0.2,\n",
    "                                   rotation_range=40,\n",
    "                                   horizontal_flip = True)\n",
    "\n",
    "for batch in train_datagen.flow_from_directory(\n",
    "     \"./data\",\n",
    "    target_size=(80, 80),\n",
    "    color_mode=\"grayscale\",\n",
    "    batch_size=810,\n",
    "    shuffle=True,\n",
    "    seed=None,\n",
    "    save_to_dir=\"./dataset/violentas80x80/\",\n",
    "    save_prefix=\"violentas\",\n",
    "    save_format=\"jpg\",\n",
    "\n",
    "):\n",
    "    break"
   ]
  },
  {
   "cell_type": "code",
   "execution_count": null,
   "metadata": {},
   "outputs": [],
   "source": []
  }
 ],
 "metadata": {
  "kernelspec": {
   "display_name": "Python 3",
   "language": "python",
   "name": "python3"
  },
  "language_info": {
   "codemirror_mode": {
    "name": "ipython",
    "version": 3
   },
   "file_extension": ".py",
   "mimetype": "text/x-python",
   "name": "python",
   "nbconvert_exporter": "python",
   "pygments_lexer": "ipython3",
   "version": "3.7.7"
  }
 },
 "nbformat": 4,
 "nbformat_minor": 4
}
