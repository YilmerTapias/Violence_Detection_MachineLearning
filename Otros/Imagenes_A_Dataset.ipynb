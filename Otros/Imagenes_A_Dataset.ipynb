{
 "cells": [
  {
   "cell_type": "code",
   "execution_count": 2,
   "metadata": {},
   "outputs": [],
   "source": [
    "#librerias utilizadas\n",
    "import numpy as np\n",
    "import os\n",
    "import re\n",
    "import matplotlib.pyplot as plt\n",
    "%matplotlib inline\n",
    "from PIL import Image,ImageFilter  \n",
    "from scipy import ndimage\n",
    "from skimage import io\n",
    "import cv2"
   ]
  },
  {
   "cell_type": "code",
   "execution_count": 13,
   "metadata": {},
   "outputs": [
    {
     "name": "stdout",
     "output_type": "stream",
     "text": [
      "leyendo imagenes de  C:\\Users\\Reiner\\Desktop\\Aprendizaje Computacional\\PROYECTO VIOLENCE DETECTION\\Pruebas\\prueba2tabla\\./violentas/\\\n",
      "C:\\Users\\Reiner\\Desktop\\Aprendizaje Computacional\\PROYECTO VIOLENCE DETECTION\\Pruebas\\prueba2tabla\\./violentas/\\ 1\n",
      "Directorios leidos: 1\n",
      "Imagenes en cada directorio [162]\n",
      "suma Total de imagenes en subdirs: 162\n"
     ]
    }
   ],
   "source": [
    "#definimos el directorio donde se encuentren todas las imagenes a redimencionar\n",
    "dirname = os.path.join(os.getcwd(), './violentas/')\n",
    "imgpath = dirname + os.sep \n",
    "#creamos arreglos para almacenar los directorios y las imagenes\n",
    "images = []\n",
    "directories = []\n",
    "dircount = []\n",
    "prevRoot=''\n",
    "cant=0\n",
    "cont=0\n",
    "punto=0\n",
    "print(\"leyendo imagenes de \",imgpath)\n",
    "\n",
    "#ciclo que recorre cada imagen en el directorio\n",
    "for root, dirnames, filenames in os.walk(imgpath):\n",
    "    for filename in filenames:\n",
    "        if (cont<162):\n",
    "        #nos aseguramos de que solo sean imagen en el directorio...\n",
    "            if re.search(\"\\.(jpg|jpeg|png|bmp|tiff)$\", filename):\n",
    "                cant=cant+1\n",
    "                #obtenemos la direccion de la imagen en la posicion actual\n",
    "                filepath = os.path.join(root, filename)\n",
    "                #la abrimos con opencv\n",
    "                src = cv2.imread(dirname+filename, cv2.IMREAD_GRAYSCALE)\n",
    "                #src = cv2.imread(dirname+filename, cv2.IMREAD_UNCHANGED) \n",
    "                #redimenzionamos la imagen al tamaño deseado \n",
    "                img = cv2.resize(src, (80,80))\n",
    "                #guardamos la imagen redimenzionada en otra carpeta\n",
    "                cv2.imwrite('./dataset/violentas80x80/'+'1'+str(filename),img)\n",
    "                #convertirmos la imagen un arreglo numpy\n",
    "                arr = np.array(img)\n",
    "                images.append(arr.ravel())\n",
    "                b = \"Leyendo...\" + str(cant)\n",
    "                print (b, end=\"\\r\")\n",
    "                cont=cont+1\n",
    "                if prevRoot !=root:\n",
    "                    print(root, cant)\n",
    "                    prevRoot=root\n",
    "                    directories.append(root)\n",
    "                    dircount.append(cant)\n",
    "                    cant=0\n",
    "            \n",
    "dircount.append(cant)\n",
    "\n",
    "dircount = dircount[1:]\n",
    "dircount[0]=dircount[0]+1\n",
    "print('Directorios leidos:',len(directories))\n",
    "print(\"Imagenes en cada directorio\", dircount)\n",
    "print('suma Total de imagenes en subdirs:',sum(dircount))\n",
    "#cv2.imshow(\"suavizado\", gauss)\n",
    "#cv2.imshow(\"suavizado\", canny)"
   ]
  },
  {
   "cell_type": "code",
   "execution_count": 14,
   "metadata": {},
   "outputs": [
    {
     "name": "stdout",
     "output_type": "stream",
     "text": [
      "leyendo imagenes de  C:\\Users\\Reiner\\Desktop\\Aprendizaje Computacional\\PROYECTO VIOLENCE DETECTION\\Pruebas\\prueba2tabla\\./dataset\\\n",
      "C:\\Users\\Reiner\\Desktop\\Aprendizaje Computacional\\PROYECTO VIOLENCE DETECTION\\Pruebas\\prueba2tabla\\./dataset\\noviolentas28x28 1\n",
      "C:\\Users\\Reiner\\Desktop\\Aprendizaje Computacional\\PROYECTO VIOLENCE DETECTION\\Pruebas\\prueba2tabla\\./dataset\\violentas28x28 810\n",
      "Directorios leidos: 2\n",
      "Imagenes en cada directorio [811, 809]\n",
      "suma Total de imagenes en subdirs: 1620\n",
      "Cantidad etiquetas creadas:  1620\n",
      "0 noviolentas28x28\n",
      "1 violentas28x28\n",
      "Total number of outputs :  2\n",
      "Output classes :  [0 1]\n"
     ]
    }
   ],
   "source": [
    "###################################################################################################################\n",
    "##########################CREACION DEL DATASET APARTIR DE LAS IMAGENES 80X80 #######################################\n",
    "###################################################################################################################\n",
    "dirname = os.path.join(os.getcwd(), './dataset')\n",
    "imgpath = dirname + os.sep \n",
    "\n",
    "images = []\n",
    "directories = []\n",
    "dircount = []\n",
    "prevRoot=''\n",
    "cant=0\n",
    "punto=0\n",
    "print(\"leyendo imagenes de \",imgpath)\n",
    "\n",
    "for root, dirnames, filenames in os.walk(imgpath):\n",
    "    for filename in filenames:\n",
    "        if re.search(\"\\.(jpg|jpeg|png|bmp|tiff)$\", filename):\n",
    "            cant=cant+1\n",
    "            filepath = os.path.join(root, filename)\n",
    "            img = Image.open(filepath).convert(\"L\")\n",
    "            #img = Image.open(filepath)\n",
    "            arr = np.array(img)\n",
    "            images.append(arr.ravel())\n",
    "            b = \"Leyendo...\" + str(cant)\n",
    "            print (b, end=\"\\r\")\n",
    "            if prevRoot !=root:\n",
    "                print(root, cant)\n",
    "                prevRoot=root\n",
    "                directories.append(root)\n",
    "                dircount.append(cant)\n",
    "                cant=0\n",
    "dircount.append(cant)\n",
    "\n",
    "dircount = dircount[1:]\n",
    "dircount[0]=dircount[0]+1\n",
    "print('Directorios leidos:',len(directories))\n",
    "print(\"Imagenes en cada directorio\", dircount)\n",
    "print('suma Total de imagenes en subdirs:',sum(dircount))\n",
    "\n",
    "labels=[]\n",
    "indice=0\n",
    "for cantidad in dircount:\n",
    "    for i in range(cantidad):\n",
    "        labels.append(indice)\n",
    "    indice=indice+1\n",
    "print(\"Cantidad etiquetas creadas: \",len(labels))\n",
    " \n",
    "#animales=[]\n",
    "#indice=0\n",
    "#for directorio in directories:\n",
    "#    name = directorio.split(os.sep)\n",
    "#    print(indice , name[len(name)-1])\n",
    "#    animales.append(name[len(name)-1])\n",
    "#    indice=indice+1\n",
    " \n",
    "y = np.array(labels)\n",
    "X = np.array(images) #convierto\n",
    " \n",
    "classes = np.unique(y)\n",
    "nClasses = len(classes)\n",
    "print('Total number of outputs : ', nClasses)\n",
    "print('Output classes : ', classes)"
   ]
  },
  {
   "cell_type": "code",
   "execution_count": 15,
   "metadata": {},
   "outputs": [
    {
     "name": "stdout",
     "output_type": "stream",
     "text": [
      "Training data shape :  (1296, 6400) (1296,)\n",
      "Testing data shape :  (324, 6400) (324,)\n"
     ]
    }
   ],
   "source": [
    "from sklearn.model_selection import train_test_split\n",
    "#Mezclar todo y crear los grupos de entrenamiento y testing\n",
    "train_X,test_X,train_Y,testing_Y = train_test_split(X,y,test_size=0.2)\n",
    "print('Training data shape : ', train_X.shape, train_Y.shape)\n",
    "print('Testing data shape : ', test_X.shape, testing_Y.shape)\n",
    "\n",
    "train_X = train_X.astype('float32')\n",
    "test_X = test_X.astype('float32')\n",
    "#garantizamos que los pixeles de todas nuestras imagenes se encuentren en el rango de 0-255\n",
    "#es decir que 255 es el mayor valor que podria tener un pixel y 0 el valor minimo\n",
    "train_X = train_X / 255.\n",
    "test_X = test_X / 255.\n",
    "\n",
    "np.savetxt('DatasetImages.train', np.matrix(train_X),fmt='%.7g')\n",
    "np.savetxt('DatasetLabels.train', np.matrix(train_Y),fmt='%i')\n",
    "np.savetxt('DatasetImages.test', np.matrix(test_X),fmt='%.7g')\n",
    "np.savetxt('DatasetLabels.test', np.matrix(testing_Y),fmt='%i')"
   ]
  }
 ],
 "metadata": {
  "kernelspec": {
   "display_name": "Python 3",
   "language": "python",
   "name": "python3"
  },
  "language_info": {
   "codemirror_mode": {
    "name": "ipython",
    "version": 3
   },
   "file_extension": ".py",
   "mimetype": "text/x-python",
   "name": "python",
   "nbconvert_exporter": "python",
   "pygments_lexer": "ipython3",
   "version": "3.8.3"
  }
 },
 "nbformat": 4,
 "nbformat_minor": 4
}
